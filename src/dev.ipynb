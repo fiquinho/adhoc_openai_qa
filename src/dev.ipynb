{
 "cells": [
  {
   "cell_type": "code",
   "execution_count": 2,
   "metadata": {},
   "outputs": [
    {
     "name": "stdout",
     "output_type": "stream",
     "text": [
      "{\n",
      "    \"VectorStores\": {\n",
      "        \"spreadsheet_id\": \"1XAhPXBsAecJUiyI13l6qtiI-iuITA4XjyDI11BLmGDo\",\n",
      "        \"bucket_name\": \"bucket-optimusprime\",\n",
      "        \"data_versions\": [\n",
      "            {\n",
      "                \"version\": \"v16\",\n",
      "                \"sheet_name\": \"V_16\",\n",
      "                \"bucket_folder\": \"V_16\",\n",
      "                \"vector_store_id\": \"vs_67a5aacc7fcc8191a1bea936b8f1e0a6\"\n",
      "            },\n",
      "            {\n",
      "                \"version\": \"v17\",\n",
      "                \"sheet_name\": \"V_17\",\n",
      "                \"bucket_folder\": \"V_17\",\n",
      "                \"vector_store_id\": \"vs_67a5aae88f44819183df90ecf83c7437\"\n",
      "            },\n",
      "            {\n",
      "                \"version\": \"v18\",\n",
      "                \"sheet_name\": \"V_18\",\n",
      "                \"bucket_folder\": \"V_18\",\n",
      "                \"vector_store_id\": \"vs_67a5ab5d5c248191a00675cd70b25398\"\n",
      "            }\n",
      "        ]\n",
      "    }\n",
      "}\n"
     ]
    }
   ],
   "source": [
    "from defaults import DEV_CONFIG_FILE\n",
    "import tomli\n",
    "import json\n",
    "\n",
    "\n",
    "with open(DEV_CONFIG_FILE, mode=\"rb\") as fp:\n",
    "    config = tomli.load(fp)\n",
    "    json_obj = json.dumps(config, indent=4)\n",
    "print(json_obj)"
   ]
  },
  {
   "cell_type": "code",
   "execution_count": 3,
   "metadata": {},
   "outputs": [],
   "source": [
    "from pydantic import BaseModel\n",
    "\n",
    "\n",
    "class DataVersion(BaseModel):\n",
    "    version: str\n",
    "    sheet_name: str\n",
    "    bucket_folder: str\n",
    "    vector_store_id: str\n",
    "\n",
    "\n",
    "class VectorStoreConfig(BaseModel):\n",
    "    spreadsheet_id: str\n",
    "    bucket_name: str\n",
    "    data_versions: list[DataVersion]"
   ]
  },
  {
   "cell_type": "code",
   "execution_count": 5,
   "metadata": {},
   "outputs": [
    {
     "name": "stdout",
     "output_type": "stream",
     "text": [
      "spreadsheet_id='1XAhPXBsAecJUiyI13l6qtiI-iuITA4XjyDI11BLmGDo' bucket_name='bucket-optimusprime' data_versions=[DataVersion(version='v16', sheet_name='V_16', bucket_folder='V_16', vector_store_id='vs_67a5aacc7fcc8191a1bea936b8f1e0a6'), DataVersion(version='v17', sheet_name='V_17', bucket_folder='V_17', vector_store_id='vs_67a5aae88f44819183df90ecf83c7437'), DataVersion(version='v18', sheet_name='V_18', bucket_folder='V_18', vector_store_id='vs_67a5ab5d5c248191a00675cd70b25398')]\n"
     ]
    }
   ],
   "source": [
    "print(VectorStoreConfig(**config[\"VectorStores\"]))"
   ]
  },
  {
   "cell_type": "code",
   "execution_count": null,
   "metadata": {},
   "outputs": [],
   "source": []
  }
 ],
 "metadata": {
  "kernelspec": {
   "display_name": ".venv",
   "language": "python",
   "name": "python3"
  },
  "language_info": {
   "codemirror_mode": {
    "name": "ipython",
    "version": 3
   },
   "file_extension": ".py",
   "mimetype": "text/x-python",
   "name": "python",
   "nbconvert_exporter": "python",
   "pygments_lexer": "ipython3",
   "version": "3.12.2"
  }
 },
 "nbformat": 4,
 "nbformat_minor": 2
}
